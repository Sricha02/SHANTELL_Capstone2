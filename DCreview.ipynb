{
 "cells": [
  {
   "cell_type": "code",
   "execution_count": 2,
   "metadata": {},
   "outputs": [],
   "source": [
    "import pandas as pd\n",
    "import seaborn as sns\n",
    "import numpy as np\n",
    "from scipy import stats"
   ]
  },
  {
   "cell_type": "code",
   "execution_count": 3,
   "metadata": {},
   "outputs": [],
   "source": [
    "import matplotlib.pyplot as plt\n",
    "import matplotlib.animation as animation\n"
   ]
  },
  {
   "cell_type": "code",
   "execution_count": 4,
   "metadata": {},
   "outputs": [],
   "source": [
    "LTS = pd.read_csv('listings.csv', delimiter = ',', header = 0)\n",
    "NBH = pd.read_csv('neighbourhoods.csv', delimiter = ',', header = 0)\n",
    "REW = pd.read_csv('reviews.csv', delimiter = ',', header = 0)\n",
    "CAL = pd.read_csv('calendar.csv.gz', delimiter = ',', header = 0, low_memory=False)\n",
    "LTS_GZ = pd.read_csv('listings.csv.gz', delimiter = ',', header = 0, low_memory=False)\n",
    "REW_GZ = pd.read_csv('reviews.csv.gz', delimiter = ',', header = 0, low_memory=False)\n",
    "NBH_J= pd.read_json('neighbourhoods.geojson', lines=True)"
   ]
  },
  {
   "cell_type": "code",
   "execution_count": 5,
   "metadata": {},
   "outputs": [],
   "source": [
    "pd.set_option('display.max_columns', None)\n",
    "pd.set_option('display.max_rows', 50)"
   ]
  },
  {
   "cell_type": "code",
   "execution_count": null,
   "metadata": {},
   "outputs": [],
   "source": [
    "####Begin Data Cleaning"
   ]
  },
  {
   "cell_type": "code",
   "execution_count": 6,
   "metadata": {},
   "outputs": [],
   "source": [
    "# LTS.drop(columns=['neighbourhood_group','last_review'],inplace=True)\n",
    "# NBH.drop(columns=['neighbourhood_group'],inplace=True)"
   ]
  },
  {
   "cell_type": "code",
   "execution_count": null,
   "metadata": {},
   "outputs": [],
   "source": []
  }
 ],
 "metadata": {
  "kernelspec": {
   "display_name": "Python 3",
   "language": "python",
   "name": "python3"
  },
  "language_info": {
   "codemirror_mode": {
    "name": "ipython",
    "version": 3
   },
   "file_extension": ".py",
   "mimetype": "text/x-python",
   "name": "python",
   "nbconvert_exporter": "python",
   "pygments_lexer": "ipython3",
   "version": "3.7.7"
  }
 },
 "nbformat": 4,
 "nbformat_minor": 4
}
